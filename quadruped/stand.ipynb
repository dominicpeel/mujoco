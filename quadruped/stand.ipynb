{
 "cells": [
  {
   "cell_type": "markdown",
   "metadata": {},
   "source": [
    "# GO2 Learning to stand via genetic algo "
   ]
  },
  {
   "cell_type": "markdown",
   "metadata": {},
   "source": [
    "## Setup"
   ]
  },
  {
   "cell_type": "code",
   "execution_count": null,
   "metadata": {},
   "outputs": [],
   "source": [
    "import numpy as np\n",
    "import mujoco\n",
    "import mujoco.viewer\n",
    "import mediapy as media\n",
    "from robot_descriptions import go2_mj_description\n",
    "import torch\n",
    "import torch.nn as nn"
   ]
  },
  {
   "cell_type": "markdown",
   "metadata": {},
   "source": [
    "### Import Model"
   ]
  },
  {
   "cell_type": "markdown",
   "metadata": {},
   "source": [
    "Let's take a look at the model xml"
   ]
  },
  {
   "cell_type": "code",
   "execution_count": null,
   "metadata": {},
   "outputs": [],
   "source": [
    "with open(go2_mj_description.MJCF_PATH, 'r') as file:\n",
    "    model_xml = file.read()\n",
    "print(model_xml)\n",
    "\n",
    "print(go2_mj_description.MJCF_PATH)"
   ]
  },
  {
   "cell_type": "code",
   "execution_count": null,
   "metadata": {},
   "outputs": [],
   "source": [
    "model = mujoco.MjModel.from_xml_path(go2_mj_description.PACKAGE_PATH + \"/scene.xml\")\n",
    "data = mujoco.MjData(model)\n",
    "\n",
    "renderer = mujoco.Renderer(model)"
   ]
  },
  {
   "cell_type": "markdown",
   "metadata": {},
   "source": [
    "## Experimentation"
   ]
  },
  {
   "cell_type": "markdown",
   "metadata": {},
   "source": [
    "First up, lets render the scene"
   ]
  },
  {
   "cell_type": "code",
   "execution_count": null,
   "metadata": {},
   "outputs": [],
   "source": [
    "duration = 3.8  # (seconds)\n",
    "framerate = 60  # (Hz)\n",
    "\n",
    "frames = []\n",
    "mujoco.mj_resetData(model, data)  # Reset state and time.\n",
    "while data.time < duration:\n",
    "  mujoco.mj_step(model, data)\n",
    "  if len(frames) < data.time * framerate:\n",
    "    renderer.update_scene(data)\n",
    "    pixels = renderer.render()\n",
    "    frames.append(pixels)\n",
    "media.show_video(frames, fps=framerate)"
   ]
  },
  {
   "cell_type": "markdown",
   "metadata": {},
   "source": [
    "Plan is to create a neural network to control the robot. \n",
    "What are the inputs?\n",
    "Robot needs to be aware of state (joint angles, joint velocities)\n",
    "\n",
    "See https://mujoco.readthedocs.io/en/stable/python.html#named-access\n",
    "\n",
    "The model has names associated with joints (e.g. `<joint name=\"FR_hip_joint\" class=\"abduction\"/>`).  \n",
    "Named joints can be accessed on the `mujoco.MjData` object via `data.jnt(\"FR_hip_joint\")`."
   ]
  },
  {
   "cell_type": "code",
   "execution_count": null,
   "metadata": {},
   "outputs": [],
   "source": [
    "joint_names = [mujoco.mj_id2name(model, mujoco.mjtObj.mjOBJ_JOINT, i) for i in range(1, model.njnt)]\n",
    "print(\"Joint Names:\", joint_names)\n",
    "for joint_name in joint_names:\n",
    "    print(f\"{joint_name}: qpos: {data.jnt(joint_name).qpos}, qvel: {data.jnt(joint_name).qvel}\")"
   ]
  },
  {
   "cell_type": "markdown",
   "metadata": {},
   "source": [
    "The network should output the joint velocities for each joint."
   ]
  },
  {
   "cell_type": "code",
   "execution_count": null,
   "metadata": {},
   "outputs": [],
   "source": [
    "frames = []\n",
    "mujoco.mj_resetData(model, data)  # Reset state and time.\n",
    "while data.time < duration:\n",
    "  mujoco.mj_step(model, data)\n",
    "  if len(frames) < data.time * framerate:\n",
    "    data.jnt(\"FL_thigh_joint\").qvel = 2\n",
    "    renderer.update_scene(data)\n",
    "    pixels = renderer.render()\n",
    "    frames.append(pixels)\n",
    "media.show_video(frames, fps=framerate)"
   ]
  },
  {
   "cell_type": "markdown",
   "metadata": {},
   "source": [
    "What about the score?  \n",
    "For now, let's do final z-height of the bot after 3 seconds. (Bonus if it learns to jump!)\n",
    "Let's have a look at the body \"base\"."
   ]
  },
  {
   "cell_type": "code",
   "execution_count": null,
   "metadata": {},
   "outputs": [],
   "source": [
    "print(data.body(\"base\"))"
   ]
  },
  {
   "cell_type": "markdown",
   "metadata": {},
   "source": [
    "looks like xpos[2] is what we need!  \n",
    "Importand note from docs: \n",
    "> The bindings include Python classes that expose MuJoCo data structures. For maximum performance, these classes provide access to the raw memory used by MuJoCo without copying or buffering. This means that some MuJoCo functions (e.g., mj_step) change the content of fields in place. The user is therefore advised to create copies where required.\n",
    "\n",
    "https://mujoco.readthedocs.io/en/stable/python.html#structs"
   ]
  },
  {
   "cell_type": "markdown",
   "metadata": {},
   "source": [
    "Now running the previous code again, we should see the z-height of the bot drop as the bot falls to the ground.  "
   ]
  },
  {
   "cell_type": "code",
   "execution_count": null,
   "metadata": {},
   "outputs": [],
   "source": [
    "frames = []\n",
    "mujoco.mj_resetData(model, data)\n",
    "while data.time < duration:\n",
    "  mujoco.mj_step(model, data)\n",
    "  if len(frames) < data.time * framerate:\n",
    "    data.jnt(\"FL_thigh_joint\").qvel = 2\n",
    "    renderer.update_scene(data)\n",
    "    print(data.body(\"base\").xpos[2])\n",
    "    pixels = renderer.render()\n",
    "    frames.append(pixels)\n",
    "media.show_video(frames, fps=framerate)"
   ]
  },
  {
   "cell_type": "markdown",
   "metadata": {},
   "source": [
    "# Defining the network\n",
    "Okay so the we want to define a network that maps current joint angles and velocities to joint velocities.  \n",
    "Let's also add the z-height of the bot as an input to give it awareness of it's own score.  \n",
    "\n",
    "\n",
    "N: (qpos, qvel, z-height) -> qvel"
   ]
  },
  {
   "cell_type": "code",
   "execution_count": null,
   "metadata": {},
   "outputs": [],
   "source": [
    "class Network(nn.Module):\n",
    "    def __init__(self, input_size, hidden_size, output_size):\n",
    "        super(Network, self).__init__()\n",
    "        self.fc1 = nn.Linear(input_size, hidden_size)\n",
    "        self.relu = nn.ReLU()\n",
    "        self.fc2 = nn.Linear(hidden_size, hidden_size)\n",
    "        self.fc3 = nn.Linear(hidden_size, output_size)\n",
    "\n",
    "    def forward(self, x):\n",
    "        out = self.fc1(x)\n",
    "        out = self.relu(out)\n",
    "        out = self.fc2(out)\n",
    "        out = self.relu(out)\n",
    "        out = self.fc3(out)\n",
    "        return out\n",
    "\n",
    "hidden_size = 64\n",
    "network = Network(2*len(joint_names) + 1, hidden_size, len(joint_names))\n",
    "\n",
    "network"
   ]
  },
  {
   "cell_type": "markdown",
   "metadata": {},
   "source": [
    "Let's create another class that can act as an interface between the mujoco data and the network"
   ]
  },
  {
   "cell_type": "code",
   "execution_count": null,
   "metadata": {},
   "outputs": [],
   "source": [
    "class Go2Interface():\n",
    "    def __init__(self, model, network):\n",
    "        self.model = model\n",
    "        self.network = network\n",
    "\n",
    "    def step(self):\n",
    "        qpos = [data.jnt(joint_name).qpos for joint_name in joint_names]\n",
    "        qvel = [data.jnt(joint_name).qvel for joint_name in joint_names]\n",
    "        z_height = [data.body(\"base\").xpos[2]]\n",
    "        qpos_qvel = torch.tensor(np.concatenate([qpos, qvel, [z_height]]), dtype=torch.float32).T\n",
    "        qvel = self.network(qpos_qvel).detach().numpy()[0]\n",
    "        for joint_name, vel in zip(joint_names, qvel):\n",
    "            data.jnt(joint_name).qvel = vel\n",
    "\n",
    "go2_interface = Go2Interface(model, network)"
   ]
  },
  {
   "cell_type": "markdown",
   "metadata": {},
   "source": [
    "Let's try run the randomly initialized network on the joint angles and velocities"
   ]
  },
  {
   "cell_type": "code",
   "execution_count": null,
   "metadata": {},
   "outputs": [],
   "source": [
    "frames = []\n",
    "mujoco.mj_resetData(model, data)\n",
    "while data.time < duration:\n",
    "  mujoco.mj_step(model, data)\n",
    "  if len(frames) < data.time * framerate:\n",
    "    go2_interface.step()\n",
    "    renderer.update_scene(data)\n",
    "    pixels = renderer.render()\n",
    "    frames.append(pixels)\n",
    "media.show_video(frames, fps=framerate)"
   ]
  },
  {
   "cell_type": "markdown",
   "metadata": {},
   "source": [
    "Nice!"
   ]
  },
  {
   "cell_type": "markdown",
   "metadata": {},
   "source": [
    "## Genetic Algorithm\n",
    "Now we have the network, it is time to create the genetic algorithm.  \n",
    "At each generation, we want to simulate a population of networks and evaluate them on a fitness function.  \n",
    "The fitness function is simply the z-height of the bot after 3 seconds.  "
   ]
  },
  {
   "cell_type": "code",
   "execution_count": null,
   "metadata": {},
   "outputs": [],
   "source": []
  }
 ],
 "metadata": {
  "kernelspec": {
   "display_name": "venv",
   "language": "python",
   "name": "python3"
  },
  "language_info": {
   "codemirror_mode": {
    "name": "ipython",
    "version": 3
   },
   "file_extension": ".py",
   "mimetype": "text/x-python",
   "name": "python",
   "nbconvert_exporter": "python",
   "pygments_lexer": "ipython3",
   "version": "3.11.8"
  }
 },
 "nbformat": 4,
 "nbformat_minor": 2
}
